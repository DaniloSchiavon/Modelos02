{
 "cells": [
  {
   "cell_type": "markdown",
   "metadata": {},
   "source": [
    "# EBAC - Regressão II - regressão múltipla\n",
    "\n",
    "## Tarefa I"
   ]
  },
  {
   "cell_type": "markdown",
   "metadata": {},
   "source": [
    "#### Previsão de renda II\n",
    "\n",
    "Vamos continuar trabalhando com a base 'previsao_de_renda.csv', que é a base do seu próximo projeto. Vamos usar os recursos que vimos até aqui nesta base.\n",
    "\n",
    "|variavel|descrição|\n",
    "|-|-|\n",
    "|data_ref                | Data de referência de coleta das variáveis |\n",
    "|index                   | Código de identificação do cliente|\n",
    "|sexo                    | Sexo do cliente|\n",
    "|posse_de_veiculo        | Indica se o cliente possui veículo|\n",
    "|posse_de_imovel         | Indica se o cliente possui imóvel|\n",
    "|qtd_filhos              | Quantidade de filhos do cliente|\n",
    "|tipo_renda              | Tipo de renda do cliente|\n",
    "|educacao                | Grau de instrução do cliente|\n",
    "|estado_civil            | Estado civil do cliente|\n",
    "|tipo_residencia         | Tipo de residência do cliente (própria, alugada etc)|\n",
    "|idade                   | Idade do cliente|\n",
    "|tempo_emprego           | Tempo no emprego atual|\n",
    "|qt_pessoas_residencia   | Quantidade de pessoas que moram na residência|\n",
    "|renda                   | Renda em reais|"
   ]
  },
  {
   "cell_type": "code",
   "execution_count": 73,
   "metadata": {},
   "outputs": [],
   "source": [
    "import pandas as pd"
   ]
  },
  {
   "cell_type": "code",
   "execution_count": 127,
   "metadata": {},
   "outputs": [],
   "source": [
    "df = pd.read_csv('previsao_de_renda.csv')"
   ]
  },
  {
   "cell_type": "code",
   "execution_count": 77,
   "metadata": {},
   "outputs": [
    {
     "name": "stdout",
     "output_type": "stream",
     "text": [
      "<class 'pandas.core.frame.DataFrame'>\n",
      "RangeIndex: 15000 entries, 0 to 14999\n",
      "Data columns (total 15 columns):\n",
      " #   Column                 Non-Null Count  Dtype  \n",
      "---  ------                 --------------  -----  \n",
      " 0   Unnamed: 0             15000 non-null  int64  \n",
      " 1   data_ref               15000 non-null  object \n",
      " 2   id_cliente             15000 non-null  int64  \n",
      " 3   sexo                   15000 non-null  object \n",
      " 4   posse_de_veiculo       15000 non-null  bool   \n",
      " 5   posse_de_imovel        15000 non-null  bool   \n",
      " 6   qtd_filhos             15000 non-null  int64  \n",
      " 7   tipo_renda             15000 non-null  object \n",
      " 8   educacao               15000 non-null  object \n",
      " 9   estado_civil           15000 non-null  object \n",
      " 10  tipo_residencia        15000 non-null  object \n",
      " 11  idade                  15000 non-null  int64  \n",
      " 12  tempo_emprego          12427 non-null  float64\n",
      " 13  qt_pessoas_residencia  15000 non-null  float64\n",
      " 14  renda                  15000 non-null  float64\n",
      "dtypes: bool(2), float64(3), int64(4), object(6)\n",
      "memory usage: 1.5+ MB\n"
     ]
    }
   ],
   "source": [
    "df.info()"
   ]
  },
  {
   "cell_type": "code",
   "execution_count": 79,
   "metadata": {},
   "outputs": [
    {
     "name": "stdout",
     "output_type": "stream",
     "text": [
      "Index(['Unnamed: 0', 'data_ref', 'id_cliente', 'sexo', 'posse_de_veiculo',\n",
      "       'posse_de_imovel', 'qtd_filhos', 'tipo_renda', 'educacao',\n",
      "       'estado_civil', 'tipo_residencia', 'idade', 'tempo_emprego',\n",
      "       'qt_pessoas_residencia', 'renda'],\n",
      "      dtype='object')\n"
     ]
    }
   ],
   "source": [
    "print(df.columns)"
   ]
  },
  {
   "cell_type": "markdown",
   "metadata": {},
   "source": [
    "1. Separe a base em treinamento e teste (25% para teste, 75% para treinamento).\n",
    "2. Rode uma regularização *ridge* com alpha = [0, 0.001, 0.005, 0.01, 0.05, 0.1] e avalie o $R^2$ na base de testes. Qual o melhor modelo?\n",
    "3. Faça o mesmo que no passo 2, com uma regressão *LASSO*. Qual método chega a um melhor resultado?\n",
    "4. Rode um modelo *stepwise*. Avalie o $R^2$ na vase de testes. Qual o melhor resultado?\n",
    "5. Compare os parâmetros e avalie eventuais diferenças. Qual modelo você acha o melhor de todos?\n",
    "6. Partindo dos modelos que você ajustou, tente melhorar o $R^2$ na base de testes. Use a criatividade, veja se consegue inserir alguma transformação ou combinação de variáveis.\n",
    "7. Ajuste uma árvore de regressão e veja se consegue um $R^2$ melhor com ela."
   ]
  },
  {
   "cell_type": "markdown",
   "metadata": {},
   "source": [
    "### Antes de comerçar, é necessário limpar a base e excluir algumas colunas irrelevantes."
   ]
  },
  {
   "cell_type": "code",
   "execution_count": 129,
   "metadata": {},
   "outputs": [
    {
     "name": "stdout",
     "output_type": "stream",
     "text": [
      "Unnamed: 0                  0\n",
      "posse_de_veiculo            0\n",
      "posse_de_imovel             0\n",
      "qtd_filhos                  0\n",
      "tipo_renda                  0\n",
      "educacao                    0\n",
      "estado_civil                0\n",
      "tipo_residencia             0\n",
      "idade                       0\n",
      "tempo_emprego            2573\n",
      "qt_pessoas_residencia       0\n",
      "renda                       0\n",
      "dtype: int64\n"
     ]
    }
   ],
   "source": [
    "# Remover colunas desnecessárias\n",
    "df = df.drop(columns=['id_cliente', 'data_ref', 'sexo'])\n",
    "\n",
    "# Verificar se alguma coluna possui valores nulos\n",
    "print(df.isnull().sum())"
   ]
  },
  {
   "cell_type": "code",
   "execution_count": 193,
   "metadata": {},
   "outputs": [
    {
     "name": "stdout",
     "output_type": "stream",
     "text": [
      "<class 'pandas.core.frame.DataFrame'>\n",
      "RangeIndex: 15000 entries, 0 to 14999\n",
      "Data columns (total 25 columns):\n",
      " #   Column                         Non-Null Count  Dtype\n",
      "---  ------                         --------------  -----\n",
      " 0   Unnamed: 0                     15000 non-null  int32\n",
      " 1   posse_de_veiculo               15000 non-null  int32\n",
      " 2   posse_de_imovel                15000 non-null  int32\n",
      " 3   qtd_filhos                     15000 non-null  int32\n",
      " 4   idade                          15000 non-null  int32\n",
      " 5   tempo_emprego                  15000 non-null  int32\n",
      " 6   qt_pessoas_residencia          15000 non-null  int32\n",
      " 7   renda                          15000 non-null  int32\n",
      " 8   tipo_renda_Bolsista            15000 non-null  int32\n",
      " 9   tipo_renda_Empresário          15000 non-null  int32\n",
      " 10  tipo_renda_Pensionista         15000 non-null  int32\n",
      " 11  tipo_renda_Servidor público    15000 non-null  int32\n",
      " 12  educacao_Pós graduação         15000 non-null  int32\n",
      " 13  educacao_Secundário            15000 non-null  int32\n",
      " 14  educacao_Superior completo     15000 non-null  int32\n",
      " 15  educacao_Superior incompleto   15000 non-null  int32\n",
      " 16  estado_civil_Separado          15000 non-null  int32\n",
      " 17  estado_civil_Solteiro          15000 non-null  int32\n",
      " 18  estado_civil_União             15000 non-null  int32\n",
      " 19  estado_civil_Viúvo             15000 non-null  int32\n",
      " 20  tipo_residencia_Casa           15000 non-null  int32\n",
      " 21  tipo_residencia_Com os pais    15000 non-null  int32\n",
      " 22  tipo_residencia_Comunitário    15000 non-null  int32\n",
      " 23  tipo_residencia_Estúdio        15000 non-null  int32\n",
      " 24  tipo_residencia_Governamental  15000 non-null  int32\n",
      "dtypes: int32(25)\n",
      "memory usage: 1.4 MB\n",
      "None\n"
     ]
    }
   ],
   "source": [
    "# Converter variáveis categóricas em variáveis numéricqs com One-Hot Encoding\n",
    "df_encoded = pd.get_dummies(df, drop_first=True)\n",
    "\n",
    "# Converter todas as colunas do tipo bool para int\n",
    "df_encoded = df_encoded.astype(int)\n",
    "\n",
    "# Checar se todas as colunas são agora numéricas\n",
    "print(df_encoded.info())"
   ]
  },
  {
   "cell_type": "code",
   "execution_count": 141,
   "metadata": {},
   "outputs": [],
   "source": [
    "# Identificar outliers usando o método do IQR (Interquartile Range)\n",
    "Q1 = df['tempo_emprego'].quantile(0.25)\n",
    "Q3 = df['tempo_emprego'].quantile(0.75)\n",
    "IQR = Q3 - Q1\n",
    "\n",
    "# Definir limites para identificação de outliers\n",
    "limite_inferior = Q1 - 1.5 * IQR\n",
    "limite_superior = Q3 + 1.5 * IQR\n",
    "\n",
    "# Remover outliers\n",
    "df_no_outliers = df[(df['tempo_emprego'] >= limite_inferior) & (df['tempo_emprego'] <= limite_superior)]\n",
    "\n",
    "# Calcular a mediana da variável sem outliers\n",
    "mediana_tempo_emprego = df_no_outliers['tempo_emprego'].median()\n",
    "\n",
    "# Preencher valores nulos com a mediana calculada\n",
    "df['tempo_emprego'].fillna(mediana_tempo_emprego, inplace=True)"
   ]
  },
  {
   "cell_type": "markdown",
   "metadata": {},
   "source": [
    "* Agora vamos aos itens..."
   ]
  },
  {
   "cell_type": "code",
   "execution_count": 149,
   "metadata": {},
   "outputs": [],
   "source": [
    "# 01) Separe a base em treinamento e teste (25% para teste, 75% para treinamento).\n",
    "\n",
    "from sklearn.model_selection import train_test_split\n",
    "\n",
    "# Separar as features (X) e o target (y)\n",
    "X = df_encoded.drop('renda', axis=1)\n",
    "y = df_encoded['renda']\n",
    "\n",
    "# Dividir os dados em 75% treinamento e 25% teste\n",
    "X_train, X_test, y_train, y_test = train_test_split(X, y, test_size=0.25, random_state=42)"
   ]
  },
  {
   "cell_type": "code",
   "execution_count": 151,
   "metadata": {},
   "outputs": [
    {
     "name": "stdout",
     "output_type": "stream",
     "text": [
      "Melhor modelo Ridge - Alpha: 0, R-quadrado: 0.1714\n"
     ]
    }
   ],
   "source": [
    "# 02) Rode uma regularização ridge com alpha = [0, 0.001, 0.005, 0.01, 0.05, 0.1] e avalie o R² na base de testes. Qual o melhor modelo?\n",
    "\n",
    "from sklearn.linear_model import Ridge\n",
    "from sklearn.preprocessing import StandardScaler\n",
    "from sklearn.pipeline import make_pipeline\n",
    "from sklearn.metrics import r2_score\n",
    "\n",
    "# Lista de valores de alpha para a regressão Ridge\n",
    "alphas = [0, 0.001, 0.005, 0.01, 0.05, 0.1]\n",
    "ridge_results = {}\n",
    "\n",
    "for alpha in alphas:\n",
    "    # Criar o modelo Ridge com regularização\n",
    "    model = make_pipeline(StandardScaler(), Ridge(alpha=alpha))\n",
    "    model.fit(X_train, y_train)\n",
    "    y_pred = model.predict(X_test)\n",
    "    r2 = r2_score(y_test, y_pred)\n",
    "    ridge_results[alpha] = r2\n",
    "\n",
    "# Identificar o melhor modelo (com maior R-quadrado)\n",
    "best_alpha_ridge = max(ridge_results, key=ridge_results.get)\n",
    "print(f\"Melhor modelo Ridge - Alpha: {best_alpha_ridge}, R-quadrado: {ridge_results[best_alpha_ridge]:.4f}\")"
   ]
  },
  {
   "cell_type": "code",
   "execution_count": 175,
   "metadata": {},
   "outputs": [
    {
     "name": "stderr",
     "output_type": "stream",
     "text": [
      "G:\\Anaconda\\Lib\\site-packages\\sklearn\\pipeline.py:405: UserWarning: With alpha=0, this algorithm does not converge well. You are advised to use the LinearRegression estimator\n",
      "  self._final_estimator.fit(Xt, y, **fit_params_last_step)\n",
      "G:\\Anaconda\\Lib\\site-packages\\sklearn\\linear_model\\_coordinate_descent.py:631: UserWarning: Coordinate descent with no regularization may lead to unexpected results and is discouraged.\n",
      "  model = cd_fast.enet_coordinate_descent(\n",
      "G:\\Anaconda\\Lib\\site-packages\\sklearn\\linear_model\\_coordinate_descent.py:631: ConvergenceWarning: Objective did not converge. You might want to increase the number of iterations, check the scale of the features or consider increasing regularisation. Duality gap: 3.200e+11, tolerance: 7.723e+07 Linear regression models with null weight for the l1 regularization term are more efficiently fitted using one of the solvers implemented in sklearn.linear_model.Ridge/RidgeCV instead.\n",
      "  model = cd_fast.enet_coordinate_descent(\n"
     ]
    },
    {
     "name": "stdout",
     "output_type": "stream",
     "text": [
      "Melhor modelo LASSO - Alpha: 0, R-quadrado: 0.1714\n"
     ]
    }
   ],
   "source": [
    "# 03 ) Faça o mesmo que no passo 2, com uma regressão LASSO. Qual método chega a um melhor resultado?\n",
    "\n",
    "from sklearn.linear_model import Lasso\n",
    "\n",
    "# Lista de valores de alpha para a regressão LASSO\n",
    "lasso_results = {}\n",
    "\n",
    "for alpha in alphas:\n",
    "    # Criar o modelo LASSO com regularização\n",
    "    model = make_pipeline(StandardScaler(), Lasso(alpha=alpha, max_iter=10000))\n",
    "    model.fit(X_train, y_train)\n",
    "    y_pred = model.predict(X_test)\n",
    "    r2 = r2_score(y_test, y_pred)\n",
    "    lasso_results[alpha] = r2\n",
    "\n",
    "# Identificar o melhor modelo (com maior R-quadrado)\n",
    "best_alpha_lasso = max(lasso_results, key=lasso_results.get)\n",
    "print(f\"Melhor modelo LASSO - Alpha: {best_alpha_lasso}, R-quadrado: {lasso_results[best_alpha_lasso]:.4f}\")"
   ]
  },
  {
   "cell_type": "code",
   "execution_count": 181,
   "metadata": {},
   "outputs": [
    {
     "name": "stdout",
     "output_type": "stream",
     "text": [
      "R-quadrado do modelo Stepwise: 0.0173\n"
     ]
    }
   ],
   "source": [
    "import statsmodels.api as sm\n",
    "from sklearn.feature_selection import RFE\n",
    "from sklearn.linear_model import LinearRegression\n",
    "from sklearn.metrics import r2_score\n",
    "import numpy as np\n",
    "\n",
    "# Modelo de regressão linear para o stepwise\n",
    "linear_regressor = LinearRegression()\n",
    "rfe = RFE(estimator=linear_regressor, n_features_to_select=5)\n",
    "rfe.fit(X_train, y_train)\n",
    "\n",
    "# Selecionar as variáveis significativas\n",
    "selected_features = X_train.columns[rfe.support_]\n",
    "X_train_stepwise = X_train[selected_features]\n",
    "X_test_stepwise = X_test[selected_features]\n",
    "\n",
    "# Certifique-se de que os dados são numéricos e converta para NumPy\n",
    "X_train_stepwise = X_train_stepwise.astype(float).values\n",
    "X_test_stepwise = X_test_stepwise.astype(float).values\n",
    "y_train = y_train.astype(float)\n",
    "y_test = y_test.astype(float)\n",
    "\n",
    "# Ajustar o modelo final\n",
    "model_stepwise = sm.OLS(y_train, sm.add_constant(X_train_stepwise)).fit()\n",
    "\n",
    "# Avaliar o modelo na base de testes\n",
    "y_pred_stepwise = model_stepwise.predict(sm.add_constant(X_test_stepwise))\n",
    "r2_stepwise = r2_score(y_test, y_pred_stepwise)\n",
    "\n",
    "print(f\"R-quadrado do modelo Stepwise: {r2_stepwise:.4f}\")"
   ]
  },
  {
   "cell_type": "markdown",
   "metadata": {},
   "source": [
    "* 05) Os valores do modelo de Ridge e do Modelo de Lasso são iguais, talvez pela exclusão dos outliers da variável. Visto que o modelo de Lasso penaliza os coeficientes com alto grau de correlação, e o modelo de Ridge basicamente suaviza os atributos e sem os outiliers, ambos os modelos acabaram ficando iguais em relação ao R². Pela praticidade, particularmente eu prefiro o modelo de Lasso para validar certas pré-análises."
   ]
  },
  {
   "cell_type": "code",
   "execution_count": 191,
   "metadata": {},
   "outputs": [
    {
     "name": "stdout",
     "output_type": "stream",
     "text": [
      "R-quadrado do modelo melhorado: 0.0973\n"
     ]
    }
   ],
   "source": [
    "# 06) Partindo dos modelos que você ajustou, tente melhorar o R² na base de testes. Use a criatividade, veja se consegue inserir alguma transformação ou combinação de variáveis.\n",
    "\n",
    "# Teste com a variável 'tempo_emprego' transformada em um log\n",
    "X_train['tempo_emprego_log'] = np.log(X_train['tempo_emprego'])\n",
    "X_test['tempo_emprego_log'] = np.log(X_test['tempo_emprego'])\n",
    "\n",
    "# Cruzamento das variáveis 'idade' e 'tempo_emprego' em uma variável única\n",
    "X_train['idade_tempo_emprego'] = X_train['idade'] * X_train['tempo_emprego']\n",
    "X_test['idade_tempo_emprego'] = X_test['idade'] * X_test['tempo_emprego']\n",
    "\n",
    "# Seleção das variáveis mais importantes p/ o modelo usando RFE\n",
    "from sklearn.feature_selection import RFE\n",
    "rfe = RFE(estimator=LinearRegression(), n_features_to_select=5)\n",
    "rfe.fit(X_train, y_train)\n",
    "\n",
    "# Seleção das variáveis significativas\n",
    "selected_features = X_train.columns[rfe.support_]\n",
    "X_train_selected = X_train[selected_features]\n",
    "X_test_selected = X_test[selected_features]\n",
    "\n",
    "# Ajuste o modelo novamente com as novas variáveis\n",
    "model = make_pipeline(StandardScaler(), Ridge(alpha=0.01))\n",
    "model.fit(X_train_selected, y_train)\n",
    "y_pred = model.predict(X_test_selected)\n",
    "r2 = r2_score(y_test, y_pred)\n",
    "print(f\"R-quadrado do modelo melhorado: {r2:.4f}\")\n",
    "\n"
   ]
  },
  {
   "cell_type": "code",
   "execution_count": 186,
   "metadata": {},
   "outputs": [
    {
     "name": "stdout",
     "output_type": "stream",
     "text": [
      "R-quadrado da árvore de regressão: 0.1403\n"
     ]
    }
   ],
   "source": [
    "# 07) Ajuste uma árvore de regressão e veja se consegue um R² melhor com ela.\n",
    "\n",
    "from sklearn.tree import DecisionTreeRegressor\n",
    "\n",
    "# Ajuste a árvore de regressão\n",
    "tree_model = DecisionTreeRegressor(max_depth=5)\n",
    "tree_model.fit(X_train, y_train)\n",
    "\n",
    "# Avalie o modelo na base de testes\n",
    "y_pred_tree = tree_model.predict(X_test)\n",
    "r2_tree = r2_score(y_test, y_pred_tree)\n",
    "print(f\"R-quadrado da árvore de regressão: {r2_tree:.4f}\")"
   ]
  }
 ],
 "metadata": {
  "kernelspec": {
   "display_name": "Python 3 (ipykernel)",
   "language": "python",
   "name": "python3"
  },
  "language_info": {
   "codemirror_mode": {
    "name": "ipython",
    "version": 3
   },
   "file_extension": ".py",
   "mimetype": "text/x-python",
   "name": "python",
   "nbconvert_exporter": "python",
   "pygments_lexer": "ipython3",
   "version": "3.11.7"
  }
 },
 "nbformat": 4,
 "nbformat_minor": 4
}
